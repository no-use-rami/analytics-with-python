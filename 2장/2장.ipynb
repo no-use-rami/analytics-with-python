{
 "cells": [
  {
   "cell_type": "markdown",
   "metadata": {},
   "source": [
    "# 2.6 특정 열 선택하기"
   ]
  },
  {
   "cell_type": "markdown",
   "metadata": {},
   "source": [
    "인덱스 값으로 선택하기\n",
    "- 모든 파일에 열의 값이 고정된 경우\n",
    "- 어떤 열이 어떤 위치에 있는지 식별하기 쉬운 경우\n",
    "- 한 번에 여러 값을 처리해야 할 경우\n",
    "\n",
    "헤더를 사용해 선택하기\n",
    "- 파일마다 특정 열의 위치가 다른 경우\n",
    "- 특정 열 이름으로 찾는다\n",
    "- 코드에서는 해당 이름을 가진 컬럼을 찾은 후, 그 열의 인덱스로 값을 찾는다\n",
    "\n",
    "판다스\n",
    "- .iloc[:,#,#] : 정수 값(위치) <integer? index? location>\n",
    "- .lic : lable <location>\n",
    "\n",
    "- data_frame.iloc[:(행에 대한 선택),[1,3,5] (열에 대한 선택)] \n",
    "- data_frame.iloc[:, start_index:end_index] \n",
    "\n",
    "- data_frame.loc[:, 'A'] \n",
    "- data_frame.loc[0:5, ['A','C']\n",
    "- data_frame.loc[:, 'A':'F']"
   ]
  },
  {
   "cell_type": "code",
   "execution_count": 1,
   "metadata": {},
   "outputs": [
    {
     "data": {
      "text/plain": [
       "'/Users/8percent_1502/Dropbox/mirror/github/analytics-with-python'"
      ]
     },
     "execution_count": 1,
     "metadata": {},
     "output_type": "execute_result"
    }
   ],
   "source": [
    "% pwd"
   ]
  },
  {
   "cell_type": "code",
   "execution_count": 2,
   "metadata": {},
   "outputs": [
    {
     "name": "stdout",
     "output_type": "stream",
     "text": [
      "11csv_read_select_contiguous_rows.py\r\n",
      "11output.csv\r\n",
      "11pandas_output.csv\r\n",
      "12csv_reader_add_header.py\r\n",
      "12output.csv\r\n",
      "12pandas_output.csv\r\n",
      "1_9_practice.py\r\n",
      "1csv_read_with_simple_parsing_and_write.py\r\n",
      "1output.csv\r\n",
      "2.6.ipynb\r\n",
      "20171220_deal_data.csv\r\n",
      "2csv_reader_parsing_and_write.py\r\n",
      "2output.csv\r\n",
      "6csv_reader_column_by_index.py\r\n",
      "7csv_reader_column_by_name.py\r\n",
      "7output.csv\r\n",
      "7pandas_output.csv\r\n",
      "8csv_reader_counts_for_multiple_files.py\r\n",
      "9csv_reader_concat_rows_from_multiple_files.py\r\n",
      "9output.csv\r\n",
      "9pandas_output.csv\r\n",
      "another_file_to_read.txt\r\n",
      "dealapp_data_180108.csv\r\n",
      "deals_dec_2017.csv\r\n",
      "deals_nov_2017.csv\r\n",
      "deals_oct_2017.csv\r\n",
      "file_to_read.txt\r\n",
      "first_script.ipynb\r\n",
      "\u001b[31mfirst_script.py\u001b[m\u001b[m*\r\n",
      "output6.csv\r\n",
      "pandas_add_header_row.py\r\n",
      "pandas_column_by_index.py\r\n",
      "pandas_column_by_name.py\r\n",
      "pandas_concat_rows_from_multiple_files.py\r\n",
      "pandas_output.csv\r\n",
      "pandas_parsing_and_write.py\r\n",
      "supplier_data_no_header_row.csv\r\n",
      "supplier_data_unnecessary_header_footer.csv\r\n",
      "write_to_file.csv\r\n",
      "write_to_file.txt\r\n"
     ]
    }
   ],
   "source": [
    "% ls"
   ]
  },
  {
   "cell_type": "code",
   "execution_count": 3,
   "metadata": {},
   "outputs": [],
   "source": [
    "import pandas as pd"
   ]
  },
  {
   "cell_type": "code",
   "execution_count": 39,
   "metadata": {},
   "outputs": [],
   "source": [
    "df = pd.read_csv('./deals_dec_2017.csv')"
   ]
  },
  {
   "cell_type": "code",
   "execution_count": 40,
   "metadata": {},
   "outputs": [
    {
     "data": {
      "text/html": [
       "<div>\n",
       "<style>\n",
       "    .dataframe thead tr:only-child th {\n",
       "        text-align: right;\n",
       "    }\n",
       "\n",
       "    .dataframe thead th {\n",
       "        text-align: left;\n",
       "    }\n",
       "\n",
       "    .dataframe tbody tr th {\n",
       "        vertical-align: top;\n",
       "    }\n",
       "</style>\n",
       "<table border=\"1\" class=\"dataframe\">\n",
       "  <thead>\n",
       "    <tr style=\"text-align: right;\">\n",
       "      <th></th>\n",
       "      <th>deal_id</th>\n",
       "      <th>title</th>\n",
       "      <th>index_num</th>\n",
       "      <th>amount</th>\n",
       "      <th>date</th>\n",
       "    </tr>\n",
       "  </thead>\n",
       "  <tbody>\n",
       "    <tr>\n",
       "      <th>0</th>\n",
       "      <td>5755</td>\n",
       "      <td>합정 빌라 재계약</td>\n",
       "      <td>5116</td>\n",
       "      <td>15980000</td>\n",
       "      <td>2017.12.28</td>\n",
       "    </tr>\n",
       "    <tr>\n",
       "      <th>1</th>\n",
       "      <td>5621</td>\n",
       "      <td>한솔프라임</td>\n",
       "      <td>4982</td>\n",
       "      <td>199970000</td>\n",
       "      <td>2017.12.19</td>\n",
       "    </tr>\n",
       "    <tr>\n",
       "      <th>2</th>\n",
       "      <td>5526</td>\n",
       "      <td>강남구 아파트</td>\n",
       "      <td>4899</td>\n",
       "      <td>71970000</td>\n",
       "      <td>2017.12.11</td>\n",
       "    </tr>\n",
       "    <tr>\n",
       "      <th>3</th>\n",
       "      <td>5668</td>\n",
       "      <td>더 뮤지컬 1호</td>\n",
       "      <td>5028</td>\n",
       "      <td>399780000</td>\n",
       "      <td>2017.12.22</td>\n",
       "    </tr>\n",
       "    <tr>\n",
       "      <th>4</th>\n",
       "      <td>5603</td>\n",
       "      <td>트리플에스(Triple-S) 2차</td>\n",
       "      <td>4967</td>\n",
       "      <td>99710000</td>\n",
       "      <td>2017.12.18</td>\n",
       "    </tr>\n",
       "  </tbody>\n",
       "</table>\n",
       "</div>"
      ],
      "text/plain": [
       "   deal_id               title  index_num     amount        date\n",
       "0     5755           합정 빌라 재계약       5116   15980000  2017.12.28\n",
       "1     5621               한솔프라임       4982  199970000  2017.12.19\n",
       "2     5526             강남구 아파트       4899   71970000  2017.12.11\n",
       "3     5668            더 뮤지컬 1호       5028  399780000  2017.12.22\n",
       "4     5603  트리플에스(Triple-S) 2차       4967   99710000  2017.12.18"
      ]
     },
     "execution_count": 40,
     "metadata": {},
     "output_type": "execute_result"
    }
   ],
   "source": [
    "df.head()"
   ]
  },
  {
   "cell_type": "code",
   "execution_count": 41,
   "metadata": {},
   "outputs": [
    {
     "data": {
      "text/plain": [
       "pandas.core.series.Series"
      ]
     },
     "execution_count": 41,
     "metadata": {},
     "output_type": "execute_result"
    }
   ],
   "source": [
    "type(df['title'])"
   ]
  },
  {
   "cell_type": "code",
   "execution_count": 42,
   "metadata": {},
   "outputs": [
    {
     "data": {
      "text/html": [
       "<div>\n",
       "<style>\n",
       "    .dataframe thead tr:only-child th {\n",
       "        text-align: right;\n",
       "    }\n",
       "\n",
       "    .dataframe thead th {\n",
       "        text-align: left;\n",
       "    }\n",
       "\n",
       "    .dataframe tbody tr th {\n",
       "        vertical-align: top;\n",
       "    }\n",
       "</style>\n",
       "<table border=\"1\" class=\"dataframe\">\n",
       "  <thead>\n",
       "    <tr style=\"text-align: right;\">\n",
       "      <th></th>\n",
       "      <th>title</th>\n",
       "      <th>amount</th>\n",
       "      <th>date</th>\n",
       "    </tr>\n",
       "  </thead>\n",
       "  <tbody>\n",
       "    <tr>\n",
       "      <th>0</th>\n",
       "      <td>합정 빌라 재계약</td>\n",
       "      <td>15980000</td>\n",
       "      <td>2017.12.28</td>\n",
       "    </tr>\n",
       "    <tr>\n",
       "      <th>1</th>\n",
       "      <td>한솔프라임</td>\n",
       "      <td>199970000</td>\n",
       "      <td>2017.12.19</td>\n",
       "    </tr>\n",
       "    <tr>\n",
       "      <th>2</th>\n",
       "      <td>강남구 아파트</td>\n",
       "      <td>71970000</td>\n",
       "      <td>2017.12.11</td>\n",
       "    </tr>\n",
       "    <tr>\n",
       "      <th>3</th>\n",
       "      <td>더 뮤지컬 1호</td>\n",
       "      <td>399780000</td>\n",
       "      <td>2017.12.22</td>\n",
       "    </tr>\n",
       "    <tr>\n",
       "      <th>4</th>\n",
       "      <td>트리플에스(Triple-S) 2차</td>\n",
       "      <td>99710000</td>\n",
       "      <td>2017.12.18</td>\n",
       "    </tr>\n",
       "    <tr>\n",
       "      <th>5</th>\n",
       "      <td>농협 IoT 스마트판매시스템</td>\n",
       "      <td>299990000</td>\n",
       "      <td>2017.12.12</td>\n",
       "    </tr>\n",
       "  </tbody>\n",
       "</table>\n",
       "</div>"
      ],
      "text/plain": [
       "                title     amount        date\n",
       "0           합정 빌라 재계약   15980000  2017.12.28\n",
       "1               한솔프라임  199970000  2017.12.19\n",
       "2             강남구 아파트   71970000  2017.12.11\n",
       "3            더 뮤지컬 1호  399780000  2017.12.22\n",
       "4  트리플에스(Triple-S) 2차   99710000  2017.12.18\n",
       "5     농협 IoT 스마트판매시스템  299990000  2017.12.12"
      ]
     },
     "execution_count": 42,
     "metadata": {},
     "output_type": "execute_result"
    }
   ],
   "source": [
    "df.loc[:5,['title','amount','date']]"
   ]
  },
  {
   "cell_type": "code",
   "execution_count": 17,
   "metadata": {},
   "outputs": [
    {
     "data": {
      "text/html": [
       "<div>\n",
       "<style>\n",
       "    .dataframe thead tr:only-child th {\n",
       "        text-align: right;\n",
       "    }\n",
       "\n",
       "    .dataframe thead th {\n",
       "        text-align: left;\n",
       "    }\n",
       "\n",
       "    .dataframe tbody tr th {\n",
       "        vertical-align: top;\n",
       "    }\n",
       "</style>\n",
       "<table border=\"1\" class=\"dataframe\">\n",
       "  <thead>\n",
       "    <tr style=\"text-align: right;\">\n",
       "      <th></th>\n",
       "      <th>title</th>\n",
       "      <th>amount</th>\n",
       "      <th>date</th>\n",
       "    </tr>\n",
       "  </thead>\n",
       "  <tbody>\n",
       "    <tr>\n",
       "      <th>0</th>\n",
       "      <td>합정 빌라 재계약</td>\n",
       "      <td>15980000</td>\n",
       "      <td>2017.12.28</td>\n",
       "    </tr>\n",
       "    <tr>\n",
       "      <th>1</th>\n",
       "      <td>한솔프라임</td>\n",
       "      <td>199970000</td>\n",
       "      <td>2017.12.19</td>\n",
       "    </tr>\n",
       "    <tr>\n",
       "      <th>3</th>\n",
       "      <td>더 뮤지컬 1호</td>\n",
       "      <td>399780000</td>\n",
       "      <td>2017.12.22</td>\n",
       "    </tr>\n",
       "    <tr>\n",
       "      <th>6</th>\n",
       "      <td>더존푸드</td>\n",
       "      <td>149760000</td>\n",
       "      <td>2017.12.14</td>\n",
       "    </tr>\n",
       "  </tbody>\n",
       "</table>\n",
       "</div>"
      ],
      "text/plain": [
       "       title     amount        date\n",
       "0  합정 빌라 재계약   15980000  2017.12.28\n",
       "1      한솔프라임  199970000  2017.12.19\n",
       "3   더 뮤지컬 1호  399780000  2017.12.22\n",
       "6       더존푸드  149760000  2017.12.14"
      ]
     },
     "execution_count": 17,
     "metadata": {},
     "output_type": "execute_result"
    }
   ],
   "source": [
    "df.loc[[0,1,3,6],['title','amount','date']]"
   ]
  },
  {
   "cell_type": "code",
   "execution_count": 22,
   "metadata": {},
   "outputs": [
    {
     "data": {
      "text/html": [
       "<div>\n",
       "<style>\n",
       "    .dataframe thead tr:only-child th {\n",
       "        text-align: right;\n",
       "    }\n",
       "\n",
       "    .dataframe thead th {\n",
       "        text-align: left;\n",
       "    }\n",
       "\n",
       "    .dataframe tbody tr th {\n",
       "        vertical-align: top;\n",
       "    }\n",
       "</style>\n",
       "<table border=\"1\" class=\"dataframe\">\n",
       "  <thead>\n",
       "    <tr style=\"text-align: right;\">\n",
       "      <th></th>\n",
       "      <th>deal_id</th>\n",
       "      <th>title</th>\n",
       "      <th>index_num</th>\n",
       "      <th>amount</th>\n",
       "      <th>date</th>\n",
       "    </tr>\n",
       "  </thead>\n",
       "  <tbody>\n",
       "    <tr>\n",
       "      <th>0</th>\n",
       "      <td>5755</td>\n",
       "      <td>합정 빌라 재계약</td>\n",
       "      <td>5116</td>\n",
       "      <td>15980000</td>\n",
       "      <td>2017.12.28</td>\n",
       "    </tr>\n",
       "    <tr>\n",
       "      <th>2</th>\n",
       "      <td>5526</td>\n",
       "      <td>강남구 아파트</td>\n",
       "      <td>4899</td>\n",
       "      <td>71970000</td>\n",
       "      <td>2017.12.11</td>\n",
       "    </tr>\n",
       "    <tr>\n",
       "      <th>4</th>\n",
       "      <td>5603</td>\n",
       "      <td>트리플에스(Triple-S) 2차</td>\n",
       "      <td>4967</td>\n",
       "      <td>99710000</td>\n",
       "      <td>2017.12.18</td>\n",
       "    </tr>\n",
       "    <tr>\n",
       "      <th>6</th>\n",
       "      <td>5580</td>\n",
       "      <td>더존푸드</td>\n",
       "      <td>4934</td>\n",
       "      <td>149760000</td>\n",
       "      <td>2017.12.14</td>\n",
       "    </tr>\n",
       "    <tr>\n",
       "      <th>1</th>\n",
       "      <td>5621</td>\n",
       "      <td>한솔프라임</td>\n",
       "      <td>4982</td>\n",
       "      <td>199970000</td>\n",
       "      <td>2017.12.19</td>\n",
       "    </tr>\n",
       "    <tr>\n",
       "      <th>7</th>\n",
       "      <td>4897</td>\n",
       "      <td>달서미즈맘병원(재모집)</td>\n",
       "      <td>4261</td>\n",
       "      <td>297800000</td>\n",
       "      <td>2017.12.4</td>\n",
       "    </tr>\n",
       "    <tr>\n",
       "      <th>8</th>\n",
       "      <td>5729</td>\n",
       "      <td>더 뮤지컬 2호</td>\n",
       "      <td>5089</td>\n",
       "      <td>299780000</td>\n",
       "      <td>2017.12.28</td>\n",
       "    </tr>\n",
       "    <tr>\n",
       "      <th>5</th>\n",
       "      <td>5552</td>\n",
       "      <td>농협 IoT 스마트판매시스템</td>\n",
       "      <td>4915</td>\n",
       "      <td>299990000</td>\n",
       "      <td>2017.12.12</td>\n",
       "    </tr>\n",
       "    <tr>\n",
       "      <th>3</th>\n",
       "      <td>5668</td>\n",
       "      <td>더 뮤지컬 1호</td>\n",
       "      <td>5028</td>\n",
       "      <td>399780000</td>\n",
       "      <td>2017.12.22</td>\n",
       "    </tr>\n",
       "  </tbody>\n",
       "</table>\n",
       "</div>"
      ],
      "text/plain": [
       "   deal_id               title  index_num     amount        date\n",
       "0     5755           합정 빌라 재계약       5116   15980000  2017.12.28\n",
       "2     5526             강남구 아파트       4899   71970000  2017.12.11\n",
       "4     5603  트리플에스(Triple-S) 2차       4967   99710000  2017.12.18\n",
       "6     5580                더존푸드       4934  149760000  2017.12.14\n",
       "1     5621               한솔프라임       4982  199970000  2017.12.19\n",
       "7     4897        달서미즈맘병원(재모집)       4261  297800000   2017.12.4\n",
       "8     5729            더 뮤지컬 2호       5089  299780000  2017.12.28\n",
       "5     5552     농협 IoT 스마트판매시스템       4915  299990000  2017.12.12\n",
       "3     5668            더 뮤지컬 1호       5028  399780000  2017.12.22"
      ]
     },
     "execution_count": 22,
     "metadata": {},
     "output_type": "execute_result"
    }
   ],
   "source": [
    "df.sort_values('amount')"
   ]
  },
  {
   "cell_type": "code",
   "execution_count": 24,
   "metadata": {},
   "outputs": [
    {
     "data": {
      "text/plain": [
       "0    2017.12.28\n",
       "1    2017.12.19\n",
       "2    2017.12.11\n",
       "3    2017.12.22\n",
       "4    2017.12.18\n",
       "5    2017.12.12\n",
       "6    2017.12.14\n",
       "7     2017.12.4\n",
       "8    2017.12.28\n",
       "Name: date, dtype: object"
      ]
     },
     "execution_count": 24,
     "metadata": {},
     "output_type": "execute_result"
    }
   ],
   "source": [
    "df.loc[:,'date']"
   ]
  },
  {
   "cell_type": "code",
   "execution_count": 27,
   "metadata": {},
   "outputs": [],
   "source": [
    "df['yearmonth'] = df.date.apply(lambda x: x[0:7])\n",
    "# date 칼럼을 기준으로 yearmonth라는 칼럼을 추가한다 (lambda 활용 - 7번째 문자까지 인용)"
   ]
  },
  {
   "cell_type": "code",
   "execution_count": 28,
   "metadata": {},
   "outputs": [
    {
     "data": {
      "text/plain": [
       "'2017.12'"
      ]
     },
     "execution_count": 28,
     "metadata": {},
     "output_type": "execute_result"
    }
   ],
   "source": [
    "df.date[0][0:7]"
   ]
  },
  {
   "cell_type": "code",
   "execution_count": 29,
   "metadata": {},
   "outputs": [
    {
     "data": {
      "text/html": [
       "<div>\n",
       "<style>\n",
       "    .dataframe thead tr:only-child th {\n",
       "        text-align: right;\n",
       "    }\n",
       "\n",
       "    .dataframe thead th {\n",
       "        text-align: left;\n",
       "    }\n",
       "\n",
       "    .dataframe tbody tr th {\n",
       "        vertical-align: top;\n",
       "    }\n",
       "</style>\n",
       "<table border=\"1\" class=\"dataframe\">\n",
       "  <thead>\n",
       "    <tr style=\"text-align: right;\">\n",
       "      <th></th>\n",
       "      <th>deal_id</th>\n",
       "      <th>title</th>\n",
       "      <th>index_num</th>\n",
       "      <th>amount</th>\n",
       "      <th>date</th>\n",
       "      <th>yearmonth</th>\n",
       "    </tr>\n",
       "  </thead>\n",
       "  <tbody>\n",
       "    <tr>\n",
       "      <th>0</th>\n",
       "      <td>5755</td>\n",
       "      <td>합정 빌라 재계약</td>\n",
       "      <td>5116</td>\n",
       "      <td>15980000</td>\n",
       "      <td>2017.12.28</td>\n",
       "      <td>2017.12</td>\n",
       "    </tr>\n",
       "    <tr>\n",
       "      <th>1</th>\n",
       "      <td>5621</td>\n",
       "      <td>한솔프라임</td>\n",
       "      <td>4982</td>\n",
       "      <td>199970000</td>\n",
       "      <td>2017.12.19</td>\n",
       "      <td>2017.12</td>\n",
       "    </tr>\n",
       "    <tr>\n",
       "      <th>2</th>\n",
       "      <td>5526</td>\n",
       "      <td>강남구 아파트</td>\n",
       "      <td>4899</td>\n",
       "      <td>71970000</td>\n",
       "      <td>2017.12.11</td>\n",
       "      <td>2017.12</td>\n",
       "    </tr>\n",
       "    <tr>\n",
       "      <th>3</th>\n",
       "      <td>5668</td>\n",
       "      <td>더 뮤지컬 1호</td>\n",
       "      <td>5028</td>\n",
       "      <td>399780000</td>\n",
       "      <td>2017.12.22</td>\n",
       "      <td>2017.12</td>\n",
       "    </tr>\n",
       "    <tr>\n",
       "      <th>4</th>\n",
       "      <td>5603</td>\n",
       "      <td>트리플에스(Triple-S) 2차</td>\n",
       "      <td>4967</td>\n",
       "      <td>99710000</td>\n",
       "      <td>2017.12.18</td>\n",
       "      <td>2017.12</td>\n",
       "    </tr>\n",
       "    <tr>\n",
       "      <th>5</th>\n",
       "      <td>5552</td>\n",
       "      <td>농협 IoT 스마트판매시스템</td>\n",
       "      <td>4915</td>\n",
       "      <td>299990000</td>\n",
       "      <td>2017.12.12</td>\n",
       "      <td>2017.12</td>\n",
       "    </tr>\n",
       "    <tr>\n",
       "      <th>6</th>\n",
       "      <td>5580</td>\n",
       "      <td>더존푸드</td>\n",
       "      <td>4934</td>\n",
       "      <td>149760000</td>\n",
       "      <td>2017.12.14</td>\n",
       "      <td>2017.12</td>\n",
       "    </tr>\n",
       "    <tr>\n",
       "      <th>7</th>\n",
       "      <td>4897</td>\n",
       "      <td>달서미즈맘병원(재모집)</td>\n",
       "      <td>4261</td>\n",
       "      <td>297800000</td>\n",
       "      <td>2017.12.4</td>\n",
       "      <td>2017.12</td>\n",
       "    </tr>\n",
       "    <tr>\n",
       "      <th>8</th>\n",
       "      <td>5729</td>\n",
       "      <td>더 뮤지컬 2호</td>\n",
       "      <td>5089</td>\n",
       "      <td>299780000</td>\n",
       "      <td>2017.12.28</td>\n",
       "      <td>2017.12</td>\n",
       "    </tr>\n",
       "  </tbody>\n",
       "</table>\n",
       "</div>"
      ],
      "text/plain": [
       "   deal_id               title  index_num     amount        date yearmonth\n",
       "0     5755           합정 빌라 재계약       5116   15980000  2017.12.28   2017.12\n",
       "1     5621               한솔프라임       4982  199970000  2017.12.19   2017.12\n",
       "2     5526             강남구 아파트       4899   71970000  2017.12.11   2017.12\n",
       "3     5668            더 뮤지컬 1호       5028  399780000  2017.12.22   2017.12\n",
       "4     5603  트리플에스(Triple-S) 2차       4967   99710000  2017.12.18   2017.12\n",
       "5     5552     농협 IoT 스마트판매시스템       4915  299990000  2017.12.12   2017.12\n",
       "6     5580                더존푸드       4934  149760000  2017.12.14   2017.12\n",
       "7     4897        달서미즈맘병원(재모집)       4261  297800000   2017.12.4   2017.12\n",
       "8     5729            더 뮤지컬 2호       5089  299780000  2017.12.28   2017.12"
      ]
     },
     "execution_count": 29,
     "metadata": {},
     "output_type": "execute_result"
    }
   ],
   "source": [
    "df"
   ]
  },
  {
   "cell_type": "code",
   "execution_count": 30,
   "metadata": {},
   "outputs": [
    {
     "data": {
      "text/plain": [
       "0    False\n",
       "1     True\n",
       "2    False\n",
       "3     True\n",
       "4    False\n",
       "5     True\n",
       "6     True\n",
       "7     True\n",
       "8     True\n",
       "Name: amount, dtype: bool"
      ]
     },
     "execution_count": 30,
     "metadata": {},
     "output_type": "execute_result"
    }
   ],
   "source": [
    "df.amount > 100000000"
   ]
  },
  {
   "cell_type": "code",
   "execution_count": 38,
   "metadata": {},
   "outputs": [
    {
     "data": {
      "text/html": [
       "<div>\n",
       "<style>\n",
       "    .dataframe thead tr:only-child th {\n",
       "        text-align: right;\n",
       "    }\n",
       "\n",
       "    .dataframe thead th {\n",
       "        text-align: left;\n",
       "    }\n",
       "\n",
       "    .dataframe tbody tr th {\n",
       "        vertical-align: top;\n",
       "    }\n",
       "</style>\n",
       "<table border=\"1\" class=\"dataframe\">\n",
       "  <thead>\n",
       "    <tr style=\"text-align: right;\">\n",
       "      <th></th>\n",
       "      <th>title</th>\n",
       "      <th>amount</th>\n",
       "    </tr>\n",
       "  </thead>\n",
       "  <tbody>\n",
       "    <tr>\n",
       "      <th>1</th>\n",
       "      <td>한솔프라임</td>\n",
       "      <td>199970000</td>\n",
       "    </tr>\n",
       "    <tr>\n",
       "      <th>3</th>\n",
       "      <td>더 뮤지컬 1호</td>\n",
       "      <td>399780000</td>\n",
       "    </tr>\n",
       "    <tr>\n",
       "      <th>5</th>\n",
       "      <td>농협 IoT 스마트판매시스템</td>\n",
       "      <td>299990000</td>\n",
       "    </tr>\n",
       "    <tr>\n",
       "      <th>6</th>\n",
       "      <td>더존푸드</td>\n",
       "      <td>149760000</td>\n",
       "    </tr>\n",
       "    <tr>\n",
       "      <th>7</th>\n",
       "      <td>달서미즈맘병원(재모집)</td>\n",
       "      <td>297800000</td>\n",
       "    </tr>\n",
       "    <tr>\n",
       "      <th>8</th>\n",
       "      <td>더 뮤지컬 2호</td>\n",
       "      <td>299780000</td>\n",
       "    </tr>\n",
       "  </tbody>\n",
       "</table>\n",
       "</div>"
      ],
      "text/plain": [
       "             title     amount\n",
       "1            한솔프라임  199970000\n",
       "3         더 뮤지컬 1호  399780000\n",
       "5  농협 IoT 스마트판매시스템  299990000\n",
       "6             더존푸드  149760000\n",
       "7     달서미즈맘병원(재모집)  297800000\n",
       "8         더 뮤지컬 2호  299780000"
      ]
     },
     "execution_count": 38,
     "metadata": {},
     "output_type": "execute_result"
    }
   ],
   "source": [
    "df.loc[df.amount > 100000000, :][['title','amount']]"
   ]
  },
  {
   "cell_type": "code",
   "execution_count": 35,
   "metadata": {},
   "outputs": [
    {
     "data": {
      "text/plain": [
       "yearmonth\n",
       "2017.12    1834740000\n",
       "Name: amount, dtype: int64"
      ]
     },
     "execution_count": 35,
     "metadata": {},
     "output_type": "execute_result"
    }
   ],
   "source": [
    "df.groupby('yearmonth').amount.sum()"
   ]
  },
  {
   "cell_type": "code",
   "execution_count": 34,
   "metadata": {},
   "outputs": [
    {
     "data": {
      "text/plain": [
       "yearmonth\n",
       "2017.12    203860000\n",
       "Name: amount, dtype: int64"
      ]
     },
     "execution_count": 34,
     "metadata": {},
     "output_type": "execute_result"
    }
   ],
   "source": [
    "df.groupby('yearmonth').amount.mean()"
   ]
  },
  {
   "cell_type": "code",
   "execution_count": 37,
   "metadata": {},
   "outputs": [
    {
     "data": {
      "text/plain": [
       "Index(['deal_id', 'title', 'index_num', 'amount', 'date', 'yearmonth'], dtype='object')"
      ]
     },
     "execution_count": 37,
     "metadata": {},
     "output_type": "execute_result"
    }
   ],
   "source": [
    "df.columns"
   ]
  },
  {
   "cell_type": "code",
   "execution_count": null,
   "metadata": {},
   "outputs": [],
   "source": []
  },
  {
   "cell_type": "code",
   "execution_count": null,
   "metadata": {},
   "outputs": [],
   "source": [
    "df.merge(df, df_month_name, on = 'yearmonth')"
   ]
  }
 ],
 "metadata": {
  "kernelspec": {
   "display_name": "Python 3",
   "language": "python",
   "name": "python3"
  },
  "language_info": {
   "codemirror_mode": {
    "name": "ipython",
    "version": 3
   },
   "file_extension": ".py",
   "mimetype": "text/x-python",
   "name": "python",
   "nbconvert_exporter": "python",
   "pygments_lexer": "ipython3",
   "version": "3.6.3"
  }
 },
 "nbformat": 4,
 "nbformat_minor": 2
}
