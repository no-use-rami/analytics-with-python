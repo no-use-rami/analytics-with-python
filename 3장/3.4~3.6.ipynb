{
 "cells": [
  {
   "cell_type": "markdown",
   "metadata": {},
   "source": [
    "## 3.4 엑셀 통합 문서에서 워크시트 집합 읽기"
   ]
  },
  {
   "cell_type": "markdown",
   "metadata": {},
   "source": [
    "### 3.4.1 통합 문서에서 워크시트의 일부분만 처리할 때"
   ]
  },
  {
   "cell_type": "code",
   "execution_count": 177,
   "metadata": {},
   "outputs": [
    {
     "name": "stdout",
     "output_type": "stream",
     "text": [
      "11output.xls                        3output.xls\r\n",
      "11pandas_output.xls                 3장.ipynb\r\n",
      "1excel_introspect_workbook.ipynb    4-2output.xls\r\n",
      "1excel_introspect_workbook.py       4excel_value_meets_condition.ipynb\r\n",
      "2excel_parsing_and_write.ipynb      4output.xls\r\n",
      "2output.xls                         4pandas_output.xls\r\n",
      "3.4.md                              sales_2013.xlsx\r\n",
      "3.4~3.6.ipynb                       sales_2014.xlsx\r\n",
      "3.5.md                              sales_2015.xlsx\r\n"
     ]
    }
   ],
   "source": [
    "ls"
   ]
  },
  {
   "cell_type": "code",
   "execution_count": 176,
   "metadata": {},
   "outputs": [
    {
     "name": "stdout",
     "output_type": "stream",
     "text": [
      "[['Customer ID', 'Customer Name', 'Invoice Number', 'Sale Amount', 'Purchase Date'], [6789.0, 'Samantha Donaldson', '100-0007', 1995.0, '01/31/2013'], [7654.0, 'Roger Lipney', '100-0010', 2135.0, '02/15/2013']]\n",
      "\n",
      "행, 열, 내용 : \n",
      "0 0 Customer ID\n",
      "0 1 Customer Name\n",
      "0 2 Invoice Number\n",
      "0 3 Sale Amount\n",
      "0 4 Purchase Date\n",
      "1 0 6789.0\n",
      "1 1 Samantha Donaldson\n",
      "1 2 100-0007\n",
      "1 3 1995.0\n",
      "1 4 01/31/2013\n",
      "2 0 7654.0\n",
      "2 1 Roger Lipney\n",
      "2 2 100-0010\n",
      "2 3 2135.0\n",
      "2 4 02/15/2013\n"
     ]
    }
   ],
   "source": [
    "import sys\n",
    "from datetime import date\n",
    "from xlrd import open_workbook, xldate_as_tuple\n",
    "from xlwt import Workbook\n",
    "\n",
    "input_file = \"./sales_2013.xlsx\"\n",
    "output_file = \"11output.xls\"\n",
    "\n",
    "output_workbook = Workbook() #데이터를 쌓을 빈 워크북을 만든다\n",
    "output_worksheet = output_workbook.add_sheet('set_of_worksheets') \n",
    "#위의 워크북에 'set_of_worksheets'라는 이름의 워크시트를 추가한다\n",
    "\n",
    "my_sheets = [0,1]\n",
    "threshold = 1900.0\n",
    "sales_column_index = 3\n",
    "\n",
    "\n",
    "first_worksheet = True #첫 번째 워크시트가 참인 상태\n",
    "with open_workbook(input_file) as workbook:\n",
    "    data = [] #아래 for문을 통해 필터링된 데이터를 추가할 빈 리스트\n",
    "    for sheet_index in range(workbook.nsheets): #가져온 엑셀 파일에 있는 워크시트 중에서\n",
    "        if sheet_index in my_sheets: #(my_sheets = [0,1])범위 안에서\n",
    "            worksheet = workbook.sheet_by_index(sheet_index) #워크시트 위치를 기준으로 가져온다.\n",
    "            if first_worksheet: #그리고 첫 번째 워크시트 = True일 때\n",
    "                header_row = worksheet.row_values(0) #워크시트의 0번 row_value(첫 번째 행)을 header_row로 할당한다.\n",
    "                data.append(header_row) #header_row를 위의 데이터 리스트에 추가한다\n",
    "                first_worksheet = False #헤더를 가져오는 작업이 끝났으므로 상태를 변경한다.\n",
    "                \n",
    "                #print(\"header_row:\",header_row)\n",
    "                #print(\"data:\",data)\n",
    "                \n",
    "            for row_index in range(1,worksheet.nrows): #헤더 다음 행부터\n",
    "                row_list = []\n",
    "                sale_amount = worksheet.cell_value(row_index, sales_column_index)\n",
    "                #빈 row_list와 sale_amount를 가져올 셀 위치(행, 열) 지정\n",
    "                if sale_amount > threshold:\n",
    "                    for column_index in range(worksheet.ncols):\n",
    "                        cell_value = worksheet.cell_value(row_index,column_index) \n",
    "                        #sale_amount가 1900 초과할 때, cell_value에 행,열 위치를 기록한다\n",
    "                        cell_type = worksheet.cell_type(row_index,column_index) \n",
    "                        #각 위치의 데이터 타입을 기록한다\n",
    "                        if cell_type == 3: #type 3은 날짜\n",
    "                            date_cell = xldate_as_tuple(cell_value,workbook.datemode)\n",
    "                            date_cell = date(*date_cell[0:3]).strftime('%m/%d/%Y')\n",
    "                            #데이터 타입이 날짜일 때, 월/일/연 형태의 날짜 데이터로 변환해 date_cell에 기록한다\n",
    "                            row_list.append(date_cell) #date_cell을 row_list에 추가한다.\n",
    "                        else:\n",
    "                            row_list.append(cell_value) #날짜가 아닌 셀 값을 row_list에 추가한다.\n",
    "                    if row_list:\n",
    "                        data.append(row_list)\n",
    "                        #유효한 row_list를 data 리스트에 추가한다\n",
    "    print(data)\n",
    "\n",
    "    print(\"\\n행, 열, 내용 : \")\n",
    "    for list_index, output_list in enumerate(data):\n",
    "        for element_index, element in enumerate(output_list):\n",
    "            output_worksheet.write(list_index, element_index, element)\n",
    "            print(list_index, element_index, element)\n",
    "    \n",
    "output_workbook.save(output_file)"
   ]
  },
  {
   "cell_type": "markdown",
   "metadata": {},
   "source": [
    "#### 팬더스\n",
    "\n",
    "- read_excel() 함수에서 인덱스 번호나 이름으로 워크시트 선택"
   ]
  },
  {
   "cell_type": "code",
   "execution_count": 171,
   "metadata": {},
   "outputs": [
    {
     "name": "stdout",
     "output_type": "stream",
     "text": [
      "1 [   Customer ID       Customer Name Invoice Number  Sale Amount Purchase Date\n",
      "5         6789  Samantha Donaldson       100-0007         1995    2013-01-31,    Customer ID Customer Name Invoice Number  Sale Amount Purchase Date\n",
      "2         7654  Roger Lipney       100-0010         2135    2013-02-15]\n"
     ]
    }
   ],
   "source": [
    "import pandas as pd\n",
    "\n",
    "input_file = \"./sales_2013.xlsx\"\n",
    "output_file = \"11pandas_output.xls\"\n",
    "\n",
    "my_sheets = [0,1]\n",
    "threshold = 1900.0\n",
    "\n",
    "data_frame = pd.read_excel(input_file, sheetname=my_sheets, index_col=None)\n",
    "\n",
    "row_list = []\n",
    "for worksheet_name, data in data_frame.items():\n",
    "    row_list.append(data[data['Sale Amount'].astype(float) > threshold])\n",
    "    # data_frame 안의 워크시트 순서대로 데이터를 가져오고 float타입으로 변환한 'Sale Amount' 값에 따라 row_list에 추가함\n",
    "print(worksheet_name, row_list)\n",
    "\n",
    "filtered_rows = pd.concat(row_list, axis=0, ignore_index=True)\n",
    "#필터링된 행을 하나의 데이터로 합침\n",
    "\n",
    "writer = pd.ExcelWriter(output_file)\n",
    "filtered_rows.to_excel(writer, sheet_name='set_of_worksheets',index=False)\n",
    "writer.save()\n"
   ]
  },
  {
   "cell_type": "markdown",
   "metadata": {},
   "source": [
    "## 3.5 여러 개의 통합문서 처리하기\n",
    "### 3.5.1 통합 문서의 개수 및 각 통합 문서의 행과 열 개수 세기"
   ]
  },
  {
   "cell_type": "code",
   "execution_count": 197,
   "metadata": {},
   "outputs": [
    {
     "name": "stdout",
     "output_type": "stream",
     "text": [
      "Workbook: sales_2013.xlsx\n",
      "number of worksheets: 3\n",
      "Worksheet name: january_2013 \tRows 7 \tColumns: 5\n",
      "Worksheet name: february_2013 \tRows 7 \tColumns: 5\n",
      "Worksheet name: march_2013 \tRows 7 \tColumns: 5\n",
      "\n",
      "\n",
      "Workbook: sales_2014.xlsx\n",
      "number of worksheets: 3\n",
      "Worksheet name: january_2014 \tRows 7 \tColumns: 5\n",
      "Worksheet name: february_2014 \tRows 7 \tColumns: 5\n",
      "Worksheet name: march_2014 \tRows 7 \tColumns: 5\n",
      "\n",
      "\n",
      "Workbook: sales_2015.xlsx\n",
      "number of worksheets: 3\n",
      "Worksheet name: january_2015 \tRows 7 \tColumns: 5\n",
      "Worksheet name: february_2015 \tRows 7 \tColumns: 5\n",
      "Worksheet name: march_2015 \tRows 7 \tColumns: 5\n",
      "\n",
      "\n",
      "Number of Excel workbooks: 3\n"
     ]
    }
   ],
   "source": [
    "import glob\n",
    "import os\n",
    "from xlrd import open_workbook\n",
    "\n",
    "input_directory = \"./\"\n",
    "\n",
    "workbook_counter = 0\n",
    "for input_file in glob.glob(os.path.join(input_directory, '*.xlsx')):\n",
    "    workbook = open_workbook(input_file)\n",
    "    print('Workbook: {}'.format(os.path.basename(input_file)))\n",
    "    print('number of worksheets: {}'.format(workbook.nsheets))\n",
    "    for worksheet in workbook.sheets():\n",
    "        print('Worksheet name:', worksheet.name, '\\tRows',\\\n",
    "             worksheet.nrows, '\\tColumns:', worksheet.ncols)\n",
    "    print('\\n')\n",
    "    workbook_counter += 1\n",
    "print('Number of Excel workbooks: {}'.format(workbook_counter))"
   ]
  },
  {
   "cell_type": "markdown",
   "metadata": {},
   "source": [
    "### 3.5.2 여러 개의 통합 문서 합치기"
   ]
  },
  {
   "cell_type": "markdown",
   "metadata": {},
   "source": [
    "#### 기본 파이썬"
   ]
  },
  {
   "cell_type": "code",
   "execution_count": 189,
   "metadata": {},
   "outputs": [
    {
     "name": "stdout",
     "output_type": "stream",
     "text": [
      "sales_2013.xlsx\n",
      "sales_2014.xlsx\n",
      "sales_2015.xlsx\n"
     ]
    }
   ],
   "source": [
    "import glob\n",
    "import os\n",
    "from datetime import date\n",
    "from xlrd import open_workbook, xldate_as_tuple\n",
    "from xlwt import Workbook\n",
    "\n",
    "input_folder = \"./\"\n",
    "output_file = \"12output.xls\"\n",
    "\n",
    "output_workbook = Workbook()\n",
    "output_worksheet = output_workbook.add_sheet('all_data_all_workbooks')\n",
    "\n",
    "data = []\n",
    "first_worksheet = True\n",
    "\n",
    "for input_file in glob.glob(os.path.join(input_folder, '*.xlsx')):\n",
    "    print(os.path.basename(input_file))"
   ]
  },
  {
   "cell_type": "code",
   "execution_count": null,
   "metadata": {
    "collapsed": true
   },
   "outputs": [],
   "source": []
  }
 ],
 "metadata": {
  "kernelspec": {
   "display_name": "Python 3",
   "language": "python",
   "name": "python3"
  },
  "language_info": {
   "codemirror_mode": {
    "name": "ipython",
    "version": 3
   },
   "file_extension": ".py",
   "mimetype": "text/x-python",
   "name": "python",
   "nbconvert_exporter": "python",
   "pygments_lexer": "ipython3",
   "version": "3.6.3"
  }
 },
 "nbformat": 4,
 "nbformat_minor": 2
}
