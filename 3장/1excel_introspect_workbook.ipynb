{
 "cells": [
  {
   "cell_type": "markdown",
   "metadata": {
    "collapsed": true
   },
   "source": [
    "## 3.1 엑셀 통합문서 내부 살펴보기"
   ]
  },
  {
   "cell_type": "code",
   "execution_count": 1,
   "metadata": {},
   "outputs": [
    {
     "name": "stdout",
     "output_type": "stream",
     "text": [
      "./sales_2013.xlsx\n"
     ]
    }
   ],
   "source": [
    "import sys\n",
    "from xlrd import open_workbook\n",
    "\n",
    "input_file = './sales_2013.xlsx'\n",
    "\n",
    "print(input_file)"
   ]
  },
  {
   "cell_type": "code",
   "execution_count": 3,
   "metadata": {},
   "outputs": [
    {
     "name": "stdout",
     "output_type": "stream",
     "text": [
      "Number of worksheets: 3\n"
     ]
    }
   ],
   "source": [
    "workbook = open_workbook(input_file)\n",
    "print('Number of worksheets:', workbook.nsheets)"
   ]
  },
  {
   "cell_type": "code",
   "execution_count": 4,
   "metadata": {},
   "outputs": [
    {
     "name": "stdout",
     "output_type": "stream",
     "text": [
      "Worksheet name: january_2014 \tRows: 7 \tColumns: 5\n",
      "Worksheet name: february_2014 \tRows: 7 \tColumns: 5\n",
      "Worksheet name: march_2014 \tRows: 7 \tColumns: 5\n"
     ]
    }
   ],
   "source": [
    "for worksheet in workbook.sheets():\n",
    "    print(\"Worksheet name:\", worksheet.name, \"\\tRows:\",\\\n",
    "         worksheet.nrows, \"\\tColumns:\", worksheet.ncols)"
   ]
  }
 ],
 "metadata": {
  "kernelspec": {
   "display_name": "Python 3",
   "language": "python",
   "name": "python3"
  },
  "language_info": {
   "codemirror_mode": {
    "name": "ipython",
    "version": 3
   },
   "file_extension": ".py",
   "mimetype": "text/x-python",
   "name": "python",
   "nbconvert_exporter": "python",
   "pygments_lexer": "ipython3",
   "version": "3.6.3"
  }
 },
 "nbformat": 4,
 "nbformat_minor": 2
}
