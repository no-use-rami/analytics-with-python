{
 "cells": [
  {
   "cell_type": "markdown",
   "metadata": {},
   "source": [
    "## 3.2 단일 워크시트 처리"
   ]
  },
  {
   "cell_type": "code",
   "execution_count": 7,
   "metadata": {},
   "outputs": [
    {
     "name": "stdout",
     "output_type": "stream",
     "text": [
      "./sales_2013.xlsx\n"
     ]
    }
   ],
   "source": [
    "import sys\n",
    "from xlrd import open_workbook\n",
    "from xlwt import Workbook\n",
    "\n",
    "input_file = './sales_2013.xlsx'\n",
    "output_file = '2output.xls'\n",
    "\n",
    "print(input_file)"
   ]
  },
  {
   "cell_type": "code",
   "execution_count": 62,
   "metadata": {},
   "outputs": [
    {
     "name": "stdout",
     "output_type": "stream",
     "text": [
      "<xlwt.Worksheet.Worksheet object at 0x109e2aa20>\n",
      "2output.xls jan_2013_output \n",
      "    Customer ID       Customer Name Invoice Number  Sale Amount  Purchase Date\n",
      "0         1234          John Smith       100-0002         1200          41275\n",
      "1         2345       Mary Harrison       100-0003         1425          41280\n",
      "2         3456          Lucy Gomez       100-0004         1390          41285\n",
      "3         4567        Rupert Jones       100-0005         1257          41292\n",
      "4         5678       Jenny Walters       100-0006         1725          41298\n",
      "5         6789  Samantha Donaldson       100-0007         1995          41305\n"
     ]
    }
   ],
   "source": [
    "output_workbook = Workbook()\n",
    "output_worksheet = output_workbook.add_sheet('jan_2013_output')\n",
    "print(output_worksheet)\n",
    "\n",
    "with open_workbook(input_file) as workbook:\n",
    "    worksheet = workbook.sheet_by_name('january_2013')\n",
    "    for row_index in range(worksheet.nrows):\n",
    "        for column_index in range(worksheet.ncols):\n",
    "            output_worksheet.write(row_index, column_index, worksheet.cell_value(row_index, column_index))\n",
    "output_workbook.save(output_file)    \n",
    "\n",
    "import pandas as pd\n",
    "\n",
    "df = pd.read_excel(output_file)\n",
    "print(output_file, output_worksheet.name, \"\\n\", df)"
   ]
  },
  {
   "cell_type": "markdown",
   "metadata": {},
   "source": [
    "### 날짜 형식 할당"
   ]
  },
  {
   "cell_type": "code",
   "execution_count": 76,
   "metadata": {},
   "outputs": [
    {
     "name": "stdout",
     "output_type": "stream",
     "text": [
      "3output.xls jan_2014_output \n",
      "    Customer ID       Customer Name Invoice Number  Sale Amount Purchase Date\n",
      "0         1234          John Smith       100-0002          345    01/01/2014\n",
      "1         2345       Mary Harrison       100-0003        67576    01/06/2014\n",
      "2         3456          Lucy Gomez       100-0004           45    01/11/2014\n",
      "3         4567        Rupert Jones       100-0005        67876    01/18/2014\n",
      "4         5678       Jenny Walters       100-0006       124321    01/24/2014\n",
      "5         6789  Samantha Donaldson       100-0007           58    01/31/2014\n"
     ]
    }
   ],
   "source": [
    "import sys\n",
    "from datetime import date\n",
    "from xlrd import open_workbook, xldate_as_tuple\n",
    "from xlwt import Workbook\n",
    "\n",
    "input_file = './sales_2014.xlsx'\n",
    "output_file = '3output.xls'\n",
    "\n",
    "output_workbook = Workbook()\n",
    "output_worksheet = output_workbook.add_sheet('jan_2014_output')\n",
    "\n",
    "with open_workbook(input_file) as workbook:\n",
    "    worksheet = workbook.sheet_by_name('january_2014')\n",
    "    for row_index in range(worksheet.nrows):\n",
    "        row_list_output = []\n",
    "        for col_index in range(worksheet.ncols):\n",
    "            if worksheet.cell_type(row_index, col_index) == 3:\n",
    "                date_cell = xldate_as_tuple(worksheet.cell_value(row_index, col_index), workbook.datemode)\n",
    "                date_cell = date(*date_cell[0:3]).strftime('%m/%d/%Y')\n",
    "                row_list_output.append(date_cell)\n",
    "                output_worksheet.write(row_index, col_index, date_cell)\n",
    "            else:\n",
    "                non_date_cell = worksheet.cell_value(row_index, col_index)\n",
    "                row_list_output.append(non_date_cell)\n",
    "                output_worksheet.write(row_index, col_index, non_date_cell)\n",
    "output_workbook.save(output_file)\n",
    "\n",
    "import pandas as pd\n",
    "\n",
    "df2 = pd.read_excel(output_file)\n",
    "print(output_file, output_worksheet.name, '\\n', df2)"
   ]
  },
  {
   "cell_type": "markdown",
   "metadata": {},
   "source": [
    "### 팬더스"
   ]
  },
  {
   "cell_type": "code",
   "execution_count": 96,
   "metadata": {},
   "outputs": [
    {
     "name": "stdout",
     "output_type": "stream",
     "text": [
      "4output.xls\n",
      "   Customer ID       Customer Name Invoice Number  Sale Amount Purchase Date\n",
      "0         1234          John Smith       100-0002         1200    2013-01-01\n",
      "1         2345       Mary Harrison       100-0003         1425    2013-01-06\n",
      "2         3456          Lucy Gomez       100-0004         1390    2013-01-11\n",
      "3         4567        Rupert Jones       100-0005         1257    2013-01-18\n",
      "4         5678       Jenny Walters       100-0006         1725    2013-01-24\n",
      "5         6789  Samantha Donaldson       100-0007         1995    2013-01-31\n"
     ]
    }
   ],
   "source": [
    "import pandas as pd\n",
    "import sys\n",
    "\n",
    "input_file = './sales_2013.xlsx'\n",
    "output_file = '4output.xls'\n",
    "\n",
    "data_frame = pd.read_excel(input_file, sheetname='january_2013')\n",
    "\n",
    "writer = pd.ExcelWriter(output_file)\n",
    "data_frame.to_excel(writer, sheet_name='jan_2013_output', index=False)\n",
    "writer.save()\n",
    "\n",
    "print(output_file)\n",
    "print(data_frame)"
   ]
  },
  {
   "cell_type": "code",
   "execution_count": null,
   "metadata": {
    "collapsed": true
   },
   "outputs": [],
   "source": []
  }
 ],
 "metadata": {
  "kernelspec": {
   "display_name": "Python 3",
   "language": "python",
   "name": "python3"
  },
  "language_info": {
   "codemirror_mode": {
    "name": "ipython",
    "version": 3
   },
   "file_extension": ".py",
   "mimetype": "text/x-python",
   "name": "python",
   "nbconvert_exporter": "python",
   "pygments_lexer": "ipython3",
   "version": "3.6.3"
  }
 },
 "nbformat": 4,
 "nbformat_minor": 2
}
